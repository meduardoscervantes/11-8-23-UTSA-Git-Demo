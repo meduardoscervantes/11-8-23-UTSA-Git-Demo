{
 "cells": [
  {
   "cell_type": "code",
   "execution_count": 2,
   "metadata": {},
   "outputs": [],
   "source": [
    "import pandas as pd\n",
    "import random\n",
    "from string import ascii_letters"
   ]
  },
  {
   "cell_type": "code",
   "execution_count": 47,
   "metadata": {},
   "outputs": [],
   "source": [
    "def rand_string():\n",
    "    return \"\".join([ascii_letters[random.randint(0,len(ascii_letters))-1] for y in range(random.randint(4,12))])\n",
    "\n",
    "def rand_string_list():\n",
    "    return [rand_string() for y in range(115)]\n",
    "\n",
    "def rand_int_list():\n",
    "    return [random.randint(0,2500) for y in range(115)]\n",
    "\n",
    "def randDf():\n",
    "    return pd.DataFrame(\n",
    "            {\n",
    "                rand_string():(rand_int_list() if x%7==0 else rand_string_list())\n",
    "                for x in range(10)\n",
    "            }\n",
    "        )"
   ]
  },
  {
   "cell_type": "code",
   "execution_count": 49,
   "metadata": {},
   "outputs": [
    {
     "data": {
      "text/html": [
       "<div>\n",
       "<style scoped>\n",
       "    .dataframe tbody tr th:only-of-type {\n",
       "        vertical-align: middle;\n",
       "    }\n",
       "\n",
       "    .dataframe tbody tr th {\n",
       "        vertical-align: top;\n",
       "    }\n",
       "\n",
       "    .dataframe thead th {\n",
       "        text-align: right;\n",
       "    }\n",
       "</style>\n",
       "<table border=\"1\" class=\"dataframe\">\n",
       "  <thead>\n",
       "    <tr style=\"text-align: right;\">\n",
       "      <th></th>\n",
       "      <th>rnKlkm</th>\n",
       "      <th>KhXF</th>\n",
       "      <th>vgEuvCXxiHfx</th>\n",
       "      <th>HIoYruRkJhi</th>\n",
       "      <th>UmMMhg</th>\n",
       "      <th>GuTskN</th>\n",
       "      <th>dvNmpvSyho</th>\n",
       "      <th>CcxasXx</th>\n",
       "      <th>LLimGpJf</th>\n",
       "      <th>Hjkw</th>\n",
       "    </tr>\n",
       "  </thead>\n",
       "  <tbody>\n",
       "    <tr>\n",
       "      <th>0</th>\n",
       "      <td>876</td>\n",
       "      <td>YiTmUjnJWnXj</td>\n",
       "      <td>izxuNOaKg</td>\n",
       "      <td>CcaTo</td>\n",
       "      <td>NHCzbVhMVuTJ</td>\n",
       "      <td>zTJLvuVGZuoL</td>\n",
       "      <td>hUKZ</td>\n",
       "      <td>1429</td>\n",
       "      <td>bZHaKtL</td>\n",
       "      <td>LXHP</td>\n",
       "    </tr>\n",
       "    <tr>\n",
       "      <th>1</th>\n",
       "      <td>2140</td>\n",
       "      <td>WQVblf</td>\n",
       "      <td>awJZzIKELe</td>\n",
       "      <td>iIJKLjG</td>\n",
       "      <td>dmYtaPAuF</td>\n",
       "      <td>IgDK</td>\n",
       "      <td>ruoKzTu</td>\n",
       "      <td>2284</td>\n",
       "      <td>fMQVMZOhXy</td>\n",
       "      <td>ZJNoXxvcd</td>\n",
       "    </tr>\n",
       "    <tr>\n",
       "      <th>2</th>\n",
       "      <td>1624</td>\n",
       "      <td>yYKmowYqPI</td>\n",
       "      <td>VpFHMsbeshb</td>\n",
       "      <td>ZNSwhtZc</td>\n",
       "      <td>pDUfRygni</td>\n",
       "      <td>FTBWa</td>\n",
       "      <td>KrbmkRJZjmMV</td>\n",
       "      <td>2029</td>\n",
       "      <td>WbqHHAFg</td>\n",
       "      <td>ueOuidL</td>\n",
       "    </tr>\n",
       "    <tr>\n",
       "      <th>3</th>\n",
       "      <td>2418</td>\n",
       "      <td>pnpmLljJ</td>\n",
       "      <td>HSDZ</td>\n",
       "      <td>ZhbZBbSbGsU</td>\n",
       "      <td>PHOAvBzyUa</td>\n",
       "      <td>BaivjyBW</td>\n",
       "      <td>AYGhU</td>\n",
       "      <td>348</td>\n",
       "      <td>YRWuV</td>\n",
       "      <td>ifZPDLZBEX</td>\n",
       "    </tr>\n",
       "    <tr>\n",
       "      <th>4</th>\n",
       "      <td>2322</td>\n",
       "      <td>kgugAHvIhx</td>\n",
       "      <td>rwBFmZzbcXw</td>\n",
       "      <td>tlYk</td>\n",
       "      <td>SLdPveiQz</td>\n",
       "      <td>QrZcT</td>\n",
       "      <td>oXQZD</td>\n",
       "      <td>900</td>\n",
       "      <td>bSiXUkYmnmqZ</td>\n",
       "      <td>ZUPwTMMu</td>\n",
       "    </tr>\n",
       "  </tbody>\n",
       "</table>\n",
       "</div>"
      ],
      "text/plain": [
       "   rnKlkm          KhXF vgEuvCXxiHfx  HIoYruRkJhi        UmMMhg        GuTskN  \\\n",
       "0     876  YiTmUjnJWnXj    izxuNOaKg        CcaTo  NHCzbVhMVuTJ  zTJLvuVGZuoL   \n",
       "1    2140        WQVblf   awJZzIKELe      iIJKLjG     dmYtaPAuF          IgDK   \n",
       "2    1624    yYKmowYqPI  VpFHMsbeshb     ZNSwhtZc     pDUfRygni         FTBWa   \n",
       "3    2418      pnpmLljJ         HSDZ  ZhbZBbSbGsU    PHOAvBzyUa      BaivjyBW   \n",
       "4    2322    kgugAHvIhx  rwBFmZzbcXw         tlYk     SLdPveiQz         QrZcT   \n",
       "\n",
       "     dvNmpvSyho  CcxasXx      LLimGpJf        Hjkw  \n",
       "0          hUKZ     1429       bZHaKtL        LXHP  \n",
       "1       ruoKzTu     2284    fMQVMZOhXy   ZJNoXxvcd  \n",
       "2  KrbmkRJZjmMV     2029      WbqHHAFg     ueOuidL  \n",
       "3         AYGhU      348         YRWuV  ifZPDLZBEX  \n",
       "4         oXQZD      900  bSiXUkYmnmqZ    ZUPwTMMu  "
      ]
     },
     "execution_count": 49,
     "metadata": {},
     "output_type": "execute_result"
    }
   ],
   "source": [
    "randDf().head()"
   ]
  },
  {
   "cell_type": "code",
   "execution_count": 51,
   "metadata": {},
   "outputs": [
    {
     "name": "stdout",
     "output_type": "stream",
     "text": [
      "Hello WOrld, but from the main!\n"
     ]
    }
   ],
   "source": [
    "print('Hello WOrld, but from the main!')"
   ]
  },
  {
   "cell_type": "code",
   "execution_count": 1,
   "metadata": {},
   "outputs": [
    {
     "name": "stdout",
     "output_type": "stream",
     "text": [
      "Hello WOrld, but from the main!\n"
     ]
    }
   ],
   "source": [
    "print('Hello WOrld, but from the main!')"
   ]
  },
  {
   "cell_type": "code",
   "execution_count": null,
   "metadata": {},
   "outputs": [],
   "source": []
  }
 ],
 "metadata": {
  "kernelspec": {
   "display_name": "base",
   "language": "python",
   "name": "python3"
  },
  "language_info": {
   "codemirror_mode": {
    "name": "ipython",
    "version": 3
   },
   "file_extension": ".py",
   "mimetype": "text/x-python",
   "name": "python",
   "nbconvert_exporter": "python",
   "pygments_lexer": "ipython3",
   "version": "3.9.7"
  }
 },
 "nbformat": 4,
 "nbformat_minor": 2
}

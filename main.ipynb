{
 "cells": [
  {
   "cell_type": "code",
   "execution_count": 2,
   "metadata": {},
   "outputs": [],
   "source": [
    "import pandas as pd\n",
    "import random\n",
    "from string import ascii_letters"
   ]
  },
  {
   "cell_type": "code",
   "execution_count": 39,
   "metadata": {},
   "outputs": [],
   "source": [
    "def rand_string():\n",
    "    return \"\".join([ascii_letters[random.randint(0,len(ascii_letters))-1] for y in range(random.randint(4,12))])\n",
    "\n",
    "def rand_string_list():\n",
    "    return [rand_string() for y in range(115)]\n",
    "\n",
    "def rand_int_list():\n",
    "    return [random.randint(0,2500) for y in range(115)]"
   ]
  },
  {
   "cell_type": "code",
   "execution_count": 45,
   "metadata": {},
   "outputs": [],
   "source": [
    "def randDf():\n",
    "    return pd.DataFrame(\n",
    "            {\n",
    "                rand_string():(rand_int_list() if x%7==0 else rand_string_list())\n",
    "                for x in range(10)\n",
    "            }\n",
    "        )"
   ]
  },
  {
   "cell_type": "code",
   "execution_count": 46,
   "metadata": {},
   "outputs": [
    {
     "data": {
      "text/html": [
       "<div>\n",
       "<style scoped>\n",
       "    .dataframe tbody tr th:only-of-type {\n",
       "        vertical-align: middle;\n",
       "    }\n",
       "\n",
       "    .dataframe tbody tr th {\n",
       "        vertical-align: top;\n",
       "    }\n",
       "\n",
       "    .dataframe thead th {\n",
       "        text-align: right;\n",
       "    }\n",
       "</style>\n",
       "<table border=\"1\" class=\"dataframe\">\n",
       "  <thead>\n",
       "    <tr style=\"text-align: right;\">\n",
       "      <th></th>\n",
       "      <th>eetZo</th>\n",
       "      <th>uvaEu</th>\n",
       "      <th>ZHmmnrd</th>\n",
       "      <th>uVINIOoaAZW</th>\n",
       "      <th>AoJLnZlwhp</th>\n",
       "      <th>XTLF</th>\n",
       "      <th>QKXQabqOFDd</th>\n",
       "      <th>iicEq</th>\n",
       "      <th>hjdLBJIwad</th>\n",
       "      <th>XkkAWfxIZNbK</th>\n",
       "    </tr>\n",
       "  </thead>\n",
       "  <tbody>\n",
       "    <tr>\n",
       "      <th>0</th>\n",
       "      <td>1268</td>\n",
       "      <td>qOWqWwwg</td>\n",
       "      <td>ZQZB</td>\n",
       "      <td>xJnDbEj</td>\n",
       "      <td>tcZmOkz</td>\n",
       "      <td>fdiLCgOnx</td>\n",
       "      <td>mBuY</td>\n",
       "      <td>932</td>\n",
       "      <td>VHWmvWrwE</td>\n",
       "      <td>bkLIJHW</td>\n",
       "    </tr>\n",
       "    <tr>\n",
       "      <th>1</th>\n",
       "      <td>2488</td>\n",
       "      <td>pyyrBZzqxo</td>\n",
       "      <td>cVAGU</td>\n",
       "      <td>RUYZcPMFCZpK</td>\n",
       "      <td>KhJfZqb</td>\n",
       "      <td>uBfX</td>\n",
       "      <td>GDhRTW</td>\n",
       "      <td>1250</td>\n",
       "      <td>qeAszSEnMFOj</td>\n",
       "      <td>TSGtG</td>\n",
       "    </tr>\n",
       "    <tr>\n",
       "      <th>2</th>\n",
       "      <td>464</td>\n",
       "      <td>ktYTVuSsQ</td>\n",
       "      <td>dAmaZ</td>\n",
       "      <td>icDLbCsRMBdS</td>\n",
       "      <td>XDOYTmOQqL</td>\n",
       "      <td>gBzzeuoRVs</td>\n",
       "      <td>NRlTmxvyLuD</td>\n",
       "      <td>1747</td>\n",
       "      <td>SQzanqiB</td>\n",
       "      <td>iRrUWiWDRF</td>\n",
       "    </tr>\n",
       "    <tr>\n",
       "      <th>3</th>\n",
       "      <td>1986</td>\n",
       "      <td>MfAN</td>\n",
       "      <td>vnCZbt</td>\n",
       "      <td>JlnwSTiPVCI</td>\n",
       "      <td>vOYrwW</td>\n",
       "      <td>UPwaoPN</td>\n",
       "      <td>mCLSzCo</td>\n",
       "      <td>2319</td>\n",
       "      <td>byIoXTkBxU</td>\n",
       "      <td>PltqVclPDw</td>\n",
       "    </tr>\n",
       "    <tr>\n",
       "      <th>4</th>\n",
       "      <td>1386</td>\n",
       "      <td>uNVIAJ</td>\n",
       "      <td>QfcXGKypRxz</td>\n",
       "      <td>uFAokLO</td>\n",
       "      <td>lCqjq</td>\n",
       "      <td>kJcPgnGb</td>\n",
       "      <td>MuSEMkTmoQ</td>\n",
       "      <td>1140</td>\n",
       "      <td>UBTV</td>\n",
       "      <td>PzVvc</td>\n",
       "    </tr>\n",
       "  </tbody>\n",
       "</table>\n",
       "</div>"
      ],
      "text/plain": [
       "   eetZo       uvaEu      ZHmmnrd   uVINIOoaAZW  AoJLnZlwhp        XTLF  \\\n",
       "0   1268    qOWqWwwg         ZQZB       xJnDbEj     tcZmOkz   fdiLCgOnx   \n",
       "1   2488  pyyrBZzqxo        cVAGU  RUYZcPMFCZpK     KhJfZqb        uBfX   \n",
       "2    464   ktYTVuSsQ        dAmaZ  icDLbCsRMBdS  XDOYTmOQqL  gBzzeuoRVs   \n",
       "3   1986        MfAN       vnCZbt   JlnwSTiPVCI      vOYrwW     UPwaoPN   \n",
       "4   1386      uNVIAJ  QfcXGKypRxz       uFAokLO       lCqjq    kJcPgnGb   \n",
       "\n",
       "   QKXQabqOFDd  iicEq    hjdLBJIwad XkkAWfxIZNbK  \n",
       "0         mBuY    932     VHWmvWrwE      bkLIJHW  \n",
       "1       GDhRTW   1250  qeAszSEnMFOj        TSGtG  \n",
       "2  NRlTmxvyLuD   1747      SQzanqiB   iRrUWiWDRF  \n",
       "3      mCLSzCo   2319    byIoXTkBxU   PltqVclPDw  \n",
       "4   MuSEMkTmoQ   1140          UBTV        PzVvc  "
      ]
     },
     "execution_count": 46,
     "metadata": {},
     "output_type": "execute_result"
    }
   ],
   "source": [
    "randDf().head()"
   ]
  },
  {
   "cell_type": "code",
   "execution_count": null,
   "metadata": {},
   "outputs": [],
   "source": []
  },
  {
   "cell_type": "code",
   "execution_count": null,
   "metadata": {},
   "outputs": [],
   "source": []
  }
 ],
 "metadata": {
  "kernelspec": {
   "display_name": "base",
   "language": "python",
   "name": "python3"
  },
  "language_info": {
   "codemirror_mode": {
    "name": "ipython",
    "version": 3
   },
   "file_extension": ".py",
   "mimetype": "text/x-python",
   "name": "python",
   "nbconvert_exporter": "python",
   "pygments_lexer": "ipython3",
   "version": "3.9.7"
  }
 },
 "nbformat": 4,
 "nbformat_minor": 2
}
